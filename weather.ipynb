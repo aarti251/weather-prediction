{
  "cells": [
    {
      "cell_type": "code",
      "execution_count": null,
      "metadata": {
        "id": "gj90QA4ljQEu"
      },
      "outputs": [],
      "source": [
        "import pandas as pd\n",
        "import numpy as np"
      ]
    },
    {
      "cell_type": "code",
      "execution_count": null,
      "metadata": {
        "colab": {
          "base_uri": "https://localhost:8080/"
        },
        "id": "18ZVjmJpKnp8",
        "outputId": "c4bd7526-6654-41f5-cb4e-0854329abb95"
      },
      "outputs": [
        {
          "name": "stderr",
          "output_type": "stream",
          "text": [
            "<ipython-input-3-916e2642f2d7>:1: FutureWarning: The error_bad_lines argument has been deprecated and will be removed in a future version. Use on_bad_lines in the future.\n",
            "\n",
            "\n",
            "  main=pd.read_csv(\"/content/drive/MyDrive/Colab Notebooks/weatherHistory.csv\",engine=\"python\",error_bad_lines=False)\n"
          ]
        },
        {
          "name": "stdout",
          "output_type": "stream",
          "text": [
            "(96453, 12)\n"
          ]
        }
      ],
      "source": [
        "main=pd.read_csv(\"/content/drive/MyDrive/Colab Notebooks/weatherHistory.csv\",engine=\"python\",error_bad_lines=False)\n",
        "print(main.shape)\n",
        "data=main.copy()"
      ]
    },
    {
      "cell_type": "code",
      "execution_count": null,
      "metadata": {
        "colab": {
          "base_uri": "https://localhost:8080/",
          "height": 398
        },
        "id": "BxGvZoh3LOzo",
        "outputId": "48837ecb-94d7-4545-f640-35362c97cdb6"
      },
      "outputs": [
        {
          "data": {
            "text/html": [
              "\n",
              "  <div id=\"df-980d7019-6b46-47d7-bd9f-bc12e14d3af1\">\n",
              "    <div class=\"colab-df-container\">\n",
              "      <div>\n",
              "<style scoped>\n",
              "    .dataframe tbody tr th:only-of-type {\n",
              "        vertical-align: middle;\n",
              "    }\n",
              "\n",
              "    .dataframe tbody tr th {\n",
              "        vertical-align: top;\n",
              "    }\n",
              "\n",
              "    .dataframe thead th {\n",
              "        text-align: right;\n",
              "    }\n",
              "</style>\n",
              "<table border=\"1\" class=\"dataframe\">\n",
              "  <thead>\n",
              "    <tr style=\"text-align: right;\">\n",
              "      <th></th>\n",
              "      <th>Formatted Date</th>\n",
              "      <th>Summary</th>\n",
              "      <th>Precip Type</th>\n",
              "      <th>Temperature (C)</th>\n",
              "      <th>Apparent Temperature (C)</th>\n",
              "      <th>Humidity</th>\n",
              "      <th>Wind Speed (km/h)</th>\n",
              "      <th>Wind Bearing (degrees)</th>\n",
              "      <th>Visibility (km)</th>\n",
              "      <th>Loud Cover</th>\n",
              "      <th>Pressure (millibars)</th>\n",
              "      <th>Daily Summary</th>\n",
              "    </tr>\n",
              "  </thead>\n",
              "  <tbody>\n",
              "    <tr>\n",
              "      <th>0</th>\n",
              "      <td>2006-04-01 00:00:00.000 +0200</td>\n",
              "      <td>Partly Cloudy</td>\n",
              "      <td>rain</td>\n",
              "      <td>9.472222</td>\n",
              "      <td>7.388889</td>\n",
              "      <td>0.89</td>\n",
              "      <td>14.1197</td>\n",
              "      <td>251.0</td>\n",
              "      <td>15.8263</td>\n",
              "      <td>0.0</td>\n",
              "      <td>1015.13</td>\n",
              "      <td>Partly cloudy throughout the day.</td>\n",
              "    </tr>\n",
              "    <tr>\n",
              "      <th>1</th>\n",
              "      <td>2006-04-01 01:00:00.000 +0200</td>\n",
              "      <td>Partly Cloudy</td>\n",
              "      <td>rain</td>\n",
              "      <td>9.355556</td>\n",
              "      <td>7.227778</td>\n",
              "      <td>0.86</td>\n",
              "      <td>14.2646</td>\n",
              "      <td>259.0</td>\n",
              "      <td>15.8263</td>\n",
              "      <td>0.0</td>\n",
              "      <td>1015.63</td>\n",
              "      <td>Partly cloudy throughout the day.</td>\n",
              "    </tr>\n",
              "    <tr>\n",
              "      <th>2</th>\n",
              "      <td>2006-04-01 02:00:00.000 +0200</td>\n",
              "      <td>Mostly Cloudy</td>\n",
              "      <td>rain</td>\n",
              "      <td>9.377778</td>\n",
              "      <td>9.377778</td>\n",
              "      <td>0.89</td>\n",
              "      <td>3.9284</td>\n",
              "      <td>204.0</td>\n",
              "      <td>14.9569</td>\n",
              "      <td>0.0</td>\n",
              "      <td>1015.94</td>\n",
              "      <td>Partly cloudy throughout the day.</td>\n",
              "    </tr>\n",
              "  </tbody>\n",
              "</table>\n",
              "</div>\n",
              "      <button class=\"colab-df-convert\" onclick=\"convertToInteractive('df-980d7019-6b46-47d7-bd9f-bc12e14d3af1')\"\n",
              "              title=\"Convert this dataframe to an interactive table.\"\n",
              "              style=\"display:none;\">\n",
              "        \n",
              "  <svg xmlns=\"http://www.w3.org/2000/svg\" height=\"24px\"viewBox=\"0 0 24 24\"\n",
              "       width=\"24px\">\n",
              "    <path d=\"M0 0h24v24H0V0z\" fill=\"none\"/>\n",
              "    <path d=\"M18.56 5.44l.94 2.06.94-2.06 2.06-.94-2.06-.94-.94-2.06-.94 2.06-2.06.94zm-11 1L8.5 8.5l.94-2.06 2.06-.94-2.06-.94L8.5 2.5l-.94 2.06-2.06.94zm10 10l.94 2.06.94-2.06 2.06-.94-2.06-.94-.94-2.06-.94 2.06-2.06.94z\"/><path d=\"M17.41 7.96l-1.37-1.37c-.4-.4-.92-.59-1.43-.59-.52 0-1.04.2-1.43.59L10.3 9.45l-7.72 7.72c-.78.78-.78 2.05 0 2.83L4 21.41c.39.39.9.59 1.41.59.51 0 1.02-.2 1.41-.59l7.78-7.78 2.81-2.81c.8-.78.8-2.07 0-2.86zM5.41 20L4 18.59l7.72-7.72 1.47 1.35L5.41 20z\"/>\n",
              "  </svg>\n",
              "      </button>\n",
              "      \n",
              "  <style>\n",
              "    .colab-df-container {\n",
              "      display:flex;\n",
              "      flex-wrap:wrap;\n",
              "      gap: 12px;\n",
              "    }\n",
              "\n",
              "    .colab-df-convert {\n",
              "      background-color: #E8F0FE;\n",
              "      border: none;\n",
              "      border-radius: 50%;\n",
              "      cursor: pointer;\n",
              "      display: none;\n",
              "      fill: #1967D2;\n",
              "      height: 32px;\n",
              "      padding: 0 0 0 0;\n",
              "      width: 32px;\n",
              "    }\n",
              "\n",
              "    .colab-df-convert:hover {\n",
              "      background-color: #E2EBFA;\n",
              "      box-shadow: 0px 1px 2px rgba(60, 64, 67, 0.3), 0px 1px 3px 1px rgba(60, 64, 67, 0.15);\n",
              "      fill: #174EA6;\n",
              "    }\n",
              "\n",
              "    [theme=dark] .colab-df-convert {\n",
              "      background-color: #3B4455;\n",
              "      fill: #D2E3FC;\n",
              "    }\n",
              "\n",
              "    [theme=dark] .colab-df-convert:hover {\n",
              "      background-color: #434B5C;\n",
              "      box-shadow: 0px 1px 3px 1px rgba(0, 0, 0, 0.15);\n",
              "      filter: drop-shadow(0px 1px 2px rgba(0, 0, 0, 0.3));\n",
              "      fill: #FFFFFF;\n",
              "    }\n",
              "  </style>\n",
              "\n",
              "      <script>\n",
              "        const buttonEl =\n",
              "          document.querySelector('#df-980d7019-6b46-47d7-bd9f-bc12e14d3af1 button.colab-df-convert');\n",
              "        buttonEl.style.display =\n",
              "          google.colab.kernel.accessAllowed ? 'block' : 'none';\n",
              "\n",
              "        async function convertToInteractive(key) {\n",
              "          const element = document.querySelector('#df-980d7019-6b46-47d7-bd9f-bc12e14d3af1');\n",
              "          const dataTable =\n",
              "            await google.colab.kernel.invokeFunction('convertToInteractive',\n",
              "                                                     [key], {});\n",
              "          if (!dataTable) return;\n",
              "\n",
              "          const docLinkHtml = 'Like what you see? Visit the ' +\n",
              "            '<a target=\"_blank\" href=https://colab.research.google.com/notebooks/data_table.ipynb>data table notebook</a>'\n",
              "            + ' to learn more about interactive tables.';\n",
              "          element.innerHTML = '';\n",
              "          dataTable['output_type'] = 'display_data';\n",
              "          await google.colab.output.renderOutput(dataTable, element);\n",
              "          const docLink = document.createElement('div');\n",
              "          docLink.innerHTML = docLinkHtml;\n",
              "          element.appendChild(docLink);\n",
              "        }\n",
              "      </script>\n",
              "    </div>\n",
              "  </div>\n",
              "  "
            ],
            "text/plain": [
              "                  Formatted Date        Summary Precip Type  Temperature (C)  \\\n",
              "0  2006-04-01 00:00:00.000 +0200  Partly Cloudy        rain         9.472222   \n",
              "1  2006-04-01 01:00:00.000 +0200  Partly Cloudy        rain         9.355556   \n",
              "2  2006-04-01 02:00:00.000 +0200  Mostly Cloudy        rain         9.377778   \n",
              "\n",
              "   Apparent Temperature (C)  Humidity  Wind Speed (km/h)  \\\n",
              "0                  7.388889      0.89            14.1197   \n",
              "1                  7.227778      0.86            14.2646   \n",
              "2                  9.377778      0.89             3.9284   \n",
              "\n",
              "   Wind Bearing (degrees)  Visibility (km)  Loud Cover  Pressure (millibars)  \\\n",
              "0                   251.0          15.8263         0.0               1015.13   \n",
              "1                   259.0          15.8263         0.0               1015.63   \n",
              "2                   204.0          14.9569         0.0               1015.94   \n",
              "\n",
              "                       Daily Summary  \n",
              "0  Partly cloudy throughout the day.  \n",
              "1  Partly cloudy throughout the day.  \n",
              "2  Partly cloudy throughout the day.  "
            ]
          },
          "execution_count": 4,
          "metadata": {},
          "output_type": "execute_result"
        }
      ],
      "source": [
        "data.head(3)"
      ]
    },
    {
      "cell_type": "code",
      "execution_count": null,
      "metadata": {
        "colab": {
          "base_uri": "https://localhost:8080/"
        },
        "id": "LEHWqskhLWT6",
        "outputId": "a5c8987b-aace-41cb-c581-35ca8f73a497"
      },
      "outputs": [
        {
          "data": {
            "text/plain": [
              "(96453, 12)"
            ]
          },
          "execution_count": 5,
          "metadata": {},
          "output_type": "execute_result"
        }
      ],
      "source": [
        "data.shape"
      ]
    },
    {
      "cell_type": "code",
      "execution_count": null,
      "metadata": {
        "colab": {
          "base_uri": "https://localhost:8080/"
        },
        "id": "m2QSFLRaLrSZ",
        "outputId": "24986a7d-1e47-48a6-abf2-1a8662c73247"
      },
      "outputs": [
        {
          "name": "stdout",
          "output_type": "stream",
          "text": [
            "(95936, 8)\n"
          ]
        },
        {
          "name": "stderr",
          "output_type": "stream",
          "text": [
            "<ipython-input-6-3227c63c6712>:2: SettingWithCopyWarning: \n",
            "A value is trying to be set on a copy of a slice from a DataFrame\n",
            "\n",
            "See the caveats in the documentation: https://pandas.pydata.org/pandas-docs/stable/user_guide/indexing.html#returning-a-view-versus-a-copy\n",
            "  data.drop([\"Formatted Date\",\"Daily Summary\",\"Summary\",\"Loud Cover\"],axis=1,inplace=True)\n"
          ]
        }
      ],
      "source": [
        "data =data.dropna()\n",
        "data.drop([\"Formatted Date\",\"Daily Summary\",\"Summary\",\"Loud Cover\"],axis=1,inplace=True)\n",
        "print(data.shape)"
      ]
    },
    {
      "cell_type": "code",
      "execution_count": null,
      "metadata": {
        "colab": {
          "base_uri": "https://localhost:8080/"
        },
        "id": "ViIZlTe4L-AI",
        "outputId": "bec31176-398a-4f93-db70-78e2e1798ce5"
      },
      "outputs": [
        {
          "name": "stderr",
          "output_type": "stream",
          "text": [
            "<ipython-input-7-0309436c1c4f>:1: SettingWithCopyWarning: \n",
            "A value is trying to be set on a copy of a slice from a DataFrame\n",
            "\n",
            "See the caveats in the documentation: https://pandas.pydata.org/pandas-docs/stable/user_guide/indexing.html#returning-a-view-versus-a-copy\n",
            "  data[\"Precip Type\"][data[\"Precip Type\"]==\"rain\"]=1\n",
            "<ipython-input-7-0309436c1c4f>:1: SettingWithCopyWarning: \n",
            "A value is trying to be set on a copy of a slice from a DataFrame\n",
            "\n",
            "See the caveats in the documentation: https://pandas.pydata.org/pandas-docs/stable/user_guide/indexing.html#returning-a-view-versus-a-copy\n",
            "  data[\"Precip Type\"][data[\"Precip Type\"]==\"rain\"]=1\n",
            "<ipython-input-7-0309436c1c4f>:2: SettingWithCopyWarning: \n",
            "A value is trying to be set on a copy of a slice from a DataFrame\n",
            "\n",
            "See the caveats in the documentation: https://pandas.pydata.org/pandas-docs/stable/user_guide/indexing.html#returning-a-view-versus-a-copy\n",
            "  data[\"Precip Type\"][data[\"Precip Type\"]==\"snow\"]=0\n",
            "<ipython-input-7-0309436c1c4f>:2: SettingWithCopyWarning: \n",
            "A value is trying to be set on a copy of a slice from a DataFrame\n",
            "\n",
            "See the caveats in the documentation: https://pandas.pydata.org/pandas-docs/stable/user_guide/indexing.html#returning-a-view-versus-a-copy\n",
            "  data[\"Precip Type\"][data[\"Precip Type\"]==\"snow\"]=0\n"
          ]
        },
        {
          "data": {
            "text/plain": [
              "array([1, 0], dtype=object)"
            ]
          },
          "execution_count": 7,
          "metadata": {},
          "output_type": "execute_result"
        }
      ],
      "source": [
        "data[\"Precip Type\"][data[\"Precip Type\"]==\"rain\"]=1\n",
        "data[\"Precip Type\"][data[\"Precip Type\"]==\"snow\"]=0\n",
        "data[\"Precip Type\"].unique()"
      ]
    },
    {
      "cell_type": "code",
      "execution_count": null,
      "metadata": {
        "colab": {
          "base_uri": "https://localhost:8080/"
        },
        "id": "n9TjPJjQMnYs",
        "outputId": "9bdc6c60-713a-4eb3-fcdd-317fe5daeec5"
      },
      "outputs": [
        {
          "name": "stdout",
          "output_type": "stream",
          "text": [
            "  Precip Type  Temperature (C)  Apparent Temperature (C)  Humidity  \\\n",
            "0           1         9.472222                  7.388889      0.89   \n",
            "1           1         9.355556                  7.227778      0.86   \n",
            "2           1         9.377778                  9.377778      0.89   \n",
            "3           1         8.288889                  5.944444      0.83   \n",
            "4           1         8.755556                  6.977778      0.83   \n",
            "\n",
            "   Wind Speed (km/h)  Wind Bearing (degrees)  Visibility (km)  \\\n",
            "0            14.1197                   251.0          15.8263   \n",
            "1            14.2646                   259.0          15.8263   \n",
            "2             3.9284                   204.0          14.9569   \n",
            "3            14.1036                   269.0          15.8263   \n",
            "4            11.0446                   259.0          15.8263   \n",
            "\n",
            "   Pressure (millibars)  \n",
            "0               1015.13  \n",
            "1               1015.63  \n",
            "2               1015.94  \n",
            "3               1016.41  \n",
            "4               1016.51  \n",
            "   Temperature (C)  Apparent Temperature (C)  Humidity  Wind Speed (km/h)  \\\n",
            "0         9.472222                  7.388889      0.89            14.1197   \n",
            "1         9.355556                  7.227778      0.86            14.2646   \n",
            "2         9.377778                  9.377778      0.89             3.9284   \n",
            "3         8.288889                  5.944444      0.83            14.1036   \n",
            "4         8.755556                  6.977778      0.83            11.0446   \n",
            "\n",
            "   Wind Bearing (degrees)  Visibility (km)  Pressure (millibars)  \n",
            "0                   251.0          15.8263               1015.13  \n",
            "1                   259.0          15.8263               1015.63  \n",
            "2                   204.0          14.9569               1015.94  \n",
            "3                   269.0          15.8263               1016.41  \n",
            "4                   259.0          15.8263               1016.51  \n"
          ]
        }
      ],
      "source": [
        "from sklearn.model_selection import train_test_split # class to split data \n",
        "\n",
        "data_copy=data.copy()\n",
        "print(data.head())\n",
        "\n",
        "\n",
        "Y =data[\"Precip Type\"]\n",
        "X=data.drop([\"Precip Type\"],axis=1)\n",
        "print(X.head())\n",
        "\n",
        "\n",
        "X_train, X_test, y_train, y_test = train_test_split(X, Y,test_size=0.2)"
      ]
    },
    {
      "cell_type": "code",
      "execution_count": null,
      "metadata": {
        "colab": {
          "base_uri": "https://localhost:8080/"
        },
        "id": "zbz9I4tOqfoY",
        "outputId": "3cb65287-f2c3-467d-9b8a-7d04a2284586"
      },
      "outputs": [
        {
          "name": "stdout",
          "output_type": "stream",
          "text": [
            "(76748, 1)\n",
            "(19188, 1)\n",
            "(76748,)\n",
            "(19188,)\n"
          ]
        }
      ],
      "source": [
        "from sklearn.preprocessing import MinMaxScaler\n",
        "\n",
        "scale = MinMaxScaler()\n",
        " # reshape because of minmax take column and scale\n",
        "scale.fit(X_train['Temperature (C)'].values.reshape(-1,1))\n",
        "X_train_temp = scale.transform(X_train['Temperature (C)'].values.reshape(-1,1))\n",
        "X_test_temp = scale.transform(X_test['Temperature (C)'].values.reshape(-1,1))\n",
        "print(X_train_temp.shape)\n",
        "print(X_test_temp.shape)\n",
        "print(y_train.shape)\n",
        "print(y_test.shape)"
      ]
    },
    {
      "cell_type": "code",
      "execution_count": null,
      "metadata": {
        "colab": {
          "base_uri": "https://localhost:8080/"
        },
        "id": "reqpv-EbqfwW",
        "outputId": "b206796c-a5ca-4707-8714-3c3fff56ff83"
      },
      "outputs": [
        {
          "name": "stdout",
          "output_type": "stream",
          "text": [
            "(76748, 1)\n",
            "(19188, 1)\n",
            "(76748,)\n",
            "(19188,)\n"
          ]
        }
      ],
      "source": [
        "scale = MinMaxScaler()\n",
        " # reshape because of minmax take column and scale\n",
        "scale.fit(X_train['Apparent Temperature (C)'].values.reshape(-1,1))\n",
        "X_train_atemp = scale.transform(X_train['Apparent Temperature (C)'].values.reshape(-1,1))\n",
        "X_test_atemp = scale.transform(X_test['Apparent Temperature (C)'].values.reshape(-1,1))\n",
        "print(X_train_atemp.shape)\n",
        "print(X_test_atemp.shape)\n",
        "print(y_train.shape)\n",
        "print(y_test.shape)"
      ]
    },
    {
      "cell_type": "code",
      "execution_count": null,
      "metadata": {
        "colab": {
          "base_uri": "https://localhost:8080/"
        },
        "id": "ar4ka1kErV3K",
        "outputId": "7ac48020-a133-4fa9-f992-fed228386310"
      },
      "outputs": [
        {
          "name": "stdout",
          "output_type": "stream",
          "text": [
            "(76748, 1)\n",
            "(19188, 1)\n",
            "(76748,)\n",
            "(19188,)\n"
          ]
        }
      ],
      "source": [
        "scale = MinMaxScaler()\n",
        " # reshape because of minmax take column and scale\n",
        "scale.fit(X_train['Humidity'].values.reshape(-1,1))\n",
        "X_train_humid = scale.transform(X_train['Humidity'].values.reshape(-1,1))\n",
        "X_test_humid = scale.transform(X_test['Humidity'].values.reshape(-1,1))\n",
        "print(X_train_humid.shape)\n",
        "print(X_test_humid.shape)\n",
        "print(y_train.shape)\n",
        "print(y_test.shape)"
      ]
    },
    {
      "cell_type": "code",
      "execution_count": null,
      "metadata": {
        "colab": {
          "base_uri": "https://localhost:8080/"
        },
        "id": "2VfUUjxZrWKm",
        "outputId": "98be1276-4abe-4f5c-ad59-ae51a79d6a7d"
      },
      "outputs": [
        {
          "name": "stdout",
          "output_type": "stream",
          "text": [
            "(76748, 1)\n",
            "(19188, 1)\n",
            "(76748,)\n",
            "(19188,)\n"
          ]
        }
      ],
      "source": [
        "scale = MinMaxScaler()\n",
        " # reshape because of minmax take column and scale\n",
        "scale.fit(X_train['Wind Speed (km/h)'].values.reshape(-1,1))\n",
        "X_train_wind = scale.transform(X_train['Wind Speed (km/h)'].values.reshape(-1,1))\n",
        "X_test_wind = scale.transform(X_test['Wind Speed (km/h)'].values.reshape(-1,1))\n",
        "print(X_train_wind.shape)\n",
        "print(X_test_wind.shape)\n",
        "print(y_train.shape)\n",
        "print(y_test.shape)"
      ]
    },
    {
      "cell_type": "code",
      "execution_count": null,
      "metadata": {
        "colab": {
          "base_uri": "https://localhost:8080/"
        },
        "id": "HK-uNKjfriqZ",
        "outputId": "cffa7b16-9d21-4ff9-d5da-d7384a19c7de"
      },
      "outputs": [
        {
          "name": "stdout",
          "output_type": "stream",
          "text": [
            "(76748, 1)\n",
            "(19188, 1)\n",
            "(76748,)\n",
            "(19188,)\n"
          ]
        }
      ],
      "source": [
        "cale = MinMaxScaler()\n",
        " # reshape because of minmax take column and scale\n",
        "scale.fit(X_train['Wind Bearing (degrees)'].values.reshape(-1,1))\n",
        "X_train_bwind = scale.transform(X_train['Wind Bearing (degrees)'].values.reshape(-1,1))\n",
        "X_test_bwind = scale.transform(X_test['Wind Bearing (degrees)'].values.reshape(-1,1))\n",
        "print(X_train_bwind.shape)\n",
        "print(X_test_bwind.shape)\n",
        "print(y_train.shape)\n",
        "print(y_test.shape)"
      ]
    },
    {
      "cell_type": "code",
      "execution_count": null,
      "metadata": {
        "colab": {
          "base_uri": "https://localhost:8080/"
        },
        "id": "vmXUP7Kyri4G",
        "outputId": "afd20cb7-9738-42df-ed6f-63b2171c6aeb"
      },
      "outputs": [
        {
          "name": "stdout",
          "output_type": "stream",
          "text": [
            "(76748, 1)\n",
            "(19188, 1)\n",
            "(76748,)\n",
            "(19188,)\n"
          ]
        }
      ],
      "source": [
        "scale = MinMaxScaler()\n",
        " # reshape because of minmax take column and scale\n",
        "scale.fit(X_train['Visibility (km)'].values.reshape(-1,1))\n",
        "X_train_visi = scale.transform(X_train['Visibility (km)'].values.reshape(-1,1))\n",
        "X_test_visi = scale.transform(X_test['Visibility (km)'].values.reshape(-1,1))\n",
        "print(X_train_visi.shape)\n",
        "print(X_test_visi.shape)\n",
        "print(y_train.shape)\n",
        "print(y_test.shape)"
      ]
    },
    {
      "cell_type": "code",
      "execution_count": null,
      "metadata": {
        "colab": {
          "base_uri": "https://localhost:8080/"
        },
        "id": "JtFOj3vkr8yB",
        "outputId": "831d1636-862f-4388-d188-e292d09aefa1"
      },
      "outputs": [
        {
          "name": "stdout",
          "output_type": "stream",
          "text": [
            "(76748, 1)\n",
            "(19188, 1)\n",
            "(76748,)\n",
            "(19188,)\n"
          ]
        }
      ],
      "source": [
        "scale = MinMaxScaler()\n",
        " # reshape because of minmax take column and scale\n",
        "scale.fit(X_train['Pressure (millibars)'].values.reshape(-1,1))\n",
        "X_train_pres = scale.transform(X_train['Pressure (millibars)'].values.reshape(-1,1))\n",
        "X_test_pres = scale.transform(X_test['Pressure (millibars)'].values.reshape(-1,1))\n",
        "print(X_train_pres.shape)\n",
        "print(X_test_pres.shape)\n",
        "print(y_train.shape)\n",
        "print(y_test.shape)"
      ]
    },
    {
      "cell_type": "code",
      "execution_count": null,
      "metadata": {
        "colab": {
          "base_uri": "https://localhost:8080/"
        },
        "id": "csFnEeg5r9BR",
        "outputId": "1b822247-9ab1-4729-8322-9adcfe874772"
      },
      "outputs": [
        {
          "name": "stdout",
          "output_type": "stream",
          "text": [
            "(76748, 7)\n",
            "(19188, 7)\n",
            "(76748,)\n",
            "(19188,)\n"
          ]
        },
        {
          "name": "stderr",
          "output_type": "stream",
          "text": [
            "<ipython-input-18-278283e602d6>:8: DeprecationWarning: `np.float` is a deprecated alias for the builtin `float`. To silence this warning, use `float` by itself. Doing this will not modify any behavior and is safe. If you specifically wanted the numpy scalar type, use `np.float64` here.\n",
            "Deprecated in NumPy 1.20; for more details and guidance: https://numpy.org/devdocs/release/1.20.0-notes.html#deprecations\n",
            "  train= train.astype(np.float)\n",
            "<ipython-input-18-278283e602d6>:9: DeprecationWarning: `np.float` is a deprecated alias for the builtin `float`. To silence this warning, use `float` by itself. Doing this will not modify any behavior and is safe. If you specifically wanted the numpy scalar type, use `np.float64` here.\n",
            "Deprecated in NumPy 1.20; for more details and guidance: https://numpy.org/devdocs/release/1.20.0-notes.html#deprecations\n",
            "  test= test.astype(np.float)\n",
            "<ipython-input-18-278283e602d6>:12: DeprecationWarning: `np.float` is a deprecated alias for the builtin `float`. To silence this warning, use `float` by itself. Doing this will not modify any behavior and is safe. If you specifically wanted the numpy scalar type, use `np.float64` here.\n",
            "Deprecated in NumPy 1.20; for more details and guidance: https://numpy.org/devdocs/release/1.20.0-notes.html#deprecations\n",
            "  y_train=y_train.astype(np.float)\n",
            "<ipython-input-18-278283e602d6>:13: DeprecationWarning: `np.float` is a deprecated alias for the builtin `float`. To silence this warning, use `float` by itself. Doing this will not modify any behavior and is safe. If you specifically wanted the numpy scalar type, use `np.float64` here.\n",
            "Deprecated in NumPy 1.20; for more details and guidance: https://numpy.org/devdocs/release/1.20.0-notes.html#deprecations\n",
            "  y_test=y_test.astype(np.float)\n"
          ]
        }
      ],
      "source": [
        "from scipy.sparse import hstack\n",
        "import scipy.sparse as sp\n",
        "\n",
        "train = hstack((sp.csr_matrix(X_train_temp),X_train_atemp,X_train_humid,X_train_wind,X_train_bwind,X_train_visi,X_train_pres)).tocsr()\n",
        "test = hstack((sp.csr_matrix(X_test_temp),X_test_atemp,X_test_humid,X_test_wind,X_test_bwind,X_test_visi,X_test_pres)).tocsr()\n",
        "\n",
        "\n",
        "train= train.astype(np.float)\n",
        "test= test.astype(np.float)\n",
        "train=train.toarray()\n",
        "test=test.toarray()\n",
        "y_train=y_train.astype(np.float)\n",
        "y_test=y_test.astype(np.float)\n",
        "\n",
        "print(train.shape)\n",
        "print(test.shape)\n",
        "print(y_train.shape)\n",
        "print(y_test.shape)"
      ]
    },
    {
      "cell_type": "code",
      "execution_count": null,
      "metadata": {
        "id": "Vv77sp5ds764"
      },
      "outputs": [],
      "source": []
    },
    {
      "cell_type": "code",
      "execution_count": null,
      "metadata": {
        "id": "j_quwJwus8JP"
      },
      "outputs": [],
      "source": []
    },
    {
      "cell_type": "code",
      "execution_count": null,
      "metadata": {
        "id": "Lw2QJsxws85h"
      },
      "outputs": [],
      "source": [
        "import keras as k\n",
        "from keras.models import Sequential\n",
        "from keras.layers import Activation\n",
        "from keras.layers.core import Dense\n",
        "from keras.optimizers import Adam\n",
        "from keras.metrics import categorical_crossentropy\n"
      ]
    },
    {
      "cell_type": "code",
      "execution_count": null,
      "metadata": {
        "id": "v9rP1tsKsu28"
      },
      "outputs": [],
      "source": [
        "model=Sequential([\n",
        "    Dense(16,input_shape=(7,),activation='relu'),\n",
        "    Dense(32,activation='relu',use_bias=True),\n",
        "    Dense(2,activation='softmax')\n",
        "])"
      ]
    },
    {
      "cell_type": "code",
      "execution_count": null,
      "metadata": {
        "id": "EDb9eKcgtP_N"
      },
      "outputs": [],
      "source": [
        "model.compile(optimizer='adam',loss='sparse_categorical_crossentropy',metrics=['accuracy'])"
      ]
    },
    {
      "cell_type": "code",
      "execution_count": null,
      "metadata": {
        "colab": {
          "base_uri": "https://localhost:8080/"
        },
        "id": "E6h8d6EbtXQx",
        "outputId": "2127ac76-b0e0-4538-a1bc-6c225f1701a3"
      },
      "outputs": [
        {
          "name": "stdout",
          "output_type": "stream",
          "text": [
            "Epoch 1/100\n",
            "2399/2399 - 5s - loss: 0.0983 - accuracy: 0.9608 - 5s/epoch - 2ms/step\n",
            "Epoch 2/100\n",
            "2399/2399 - 3s - loss: 0.0347 - accuracy: 0.9860 - 3s/epoch - 1ms/step\n",
            "Epoch 3/100\n",
            "2399/2399 - 4s - loss: 0.0266 - accuracy: 0.9884 - 4s/epoch - 2ms/step\n",
            "Epoch 4/100\n",
            "2399/2399 - 3s - loss: 0.0230 - accuracy: 0.9897 - 3s/epoch - 1ms/step\n",
            "Epoch 5/100\n",
            "2399/2399 - 3s - loss: 0.0224 - accuracy: 0.9897 - 3s/epoch - 1ms/step\n",
            "Epoch 6/100\n",
            "2399/2399 - 3s - loss: 0.0215 - accuracy: 0.9902 - 3s/epoch - 1ms/step\n",
            "Epoch 7/100\n",
            "2399/2399 - 4s - loss: 0.0209 - accuracy: 0.9903 - 4s/epoch - 2ms/step\n",
            "Epoch 8/100\n",
            "2399/2399 - 4s - loss: 0.0216 - accuracy: 0.9899 - 4s/epoch - 2ms/step\n",
            "Epoch 9/100\n",
            "2399/2399 - 3s - loss: 0.0211 - accuracy: 0.9899 - 3s/epoch - 1ms/step\n",
            "Epoch 10/100\n",
            "2399/2399 - 3s - loss: 0.0208 - accuracy: 0.9899 - 3s/epoch - 1ms/step\n",
            "Epoch 11/100\n",
            "2399/2399 - 4s - loss: 0.0200 - accuracy: 0.9906 - 4s/epoch - 2ms/step\n",
            "Epoch 12/100\n",
            "2399/2399 - 4s - loss: 0.0194 - accuracy: 0.9910 - 4s/epoch - 2ms/step\n",
            "Epoch 13/100\n",
            "2399/2399 - 5s - loss: 0.0200 - accuracy: 0.9903 - 5s/epoch - 2ms/step\n",
            "Epoch 14/100\n",
            "2399/2399 - 6s - loss: 0.0197 - accuracy: 0.9906 - 6s/epoch - 2ms/step\n",
            "Epoch 15/100\n",
            "2399/2399 - 3s - loss: 0.0190 - accuracy: 0.9907 - 3s/epoch - 1ms/step\n",
            "Epoch 16/100\n",
            "2399/2399 - 3s - loss: 0.0192 - accuracy: 0.9909 - 3s/epoch - 1ms/step\n",
            "Epoch 17/100\n",
            "2399/2399 - 3s - loss: 0.0193 - accuracy: 0.9908 - 3s/epoch - 1ms/step\n",
            "Epoch 18/100\n",
            "2399/2399 - 4s - loss: 0.0188 - accuracy: 0.9909 - 4s/epoch - 2ms/step\n",
            "Epoch 19/100\n",
            "2399/2399 - 4s - loss: 0.0189 - accuracy: 0.9909 - 4s/epoch - 2ms/step\n",
            "Epoch 20/100\n",
            "2399/2399 - 3s - loss: 0.0190 - accuracy: 0.9905 - 3s/epoch - 1ms/step\n",
            "Epoch 21/100\n",
            "2399/2399 - 3s - loss: 0.0190 - accuracy: 0.9909 - 3s/epoch - 1ms/step\n",
            "Epoch 22/100\n",
            "2399/2399 - 4s - loss: 0.0189 - accuracy: 0.9910 - 4s/epoch - 2ms/step\n",
            "Epoch 23/100\n",
            "2399/2399 - 4s - loss: 0.0190 - accuracy: 0.9911 - 4s/epoch - 2ms/step\n",
            "Epoch 24/100\n",
            "2399/2399 - 3s - loss: 0.0190 - accuracy: 0.9907 - 3s/epoch - 1ms/step\n",
            "Epoch 25/100\n",
            "2399/2399 - 3s - loss: 0.0193 - accuracy: 0.9907 - 3s/epoch - 1ms/step\n",
            "Epoch 26/100\n",
            "2399/2399 - 4s - loss: 0.0189 - accuracy: 0.9909 - 4s/epoch - 2ms/step\n",
            "Epoch 27/100\n",
            "2399/2399 - 5s - loss: 0.0179 - accuracy: 0.9914 - 5s/epoch - 2ms/step\n",
            "Epoch 28/100\n",
            "2399/2399 - 3s - loss: 0.0183 - accuracy: 0.9914 - 3s/epoch - 1ms/step\n",
            "Epoch 29/100\n",
            "2399/2399 - 3s - loss: 0.0182 - accuracy: 0.9916 - 3s/epoch - 1ms/step\n",
            "Epoch 30/100\n",
            "2399/2399 - 4s - loss: 0.0180 - accuracy: 0.9913 - 4s/epoch - 2ms/step\n",
            "Epoch 31/100\n",
            "2399/2399 - 3s - loss: 0.0177 - accuracy: 0.9915 - 3s/epoch - 1ms/step\n",
            "Epoch 32/100\n",
            "2399/2399 - 3s - loss: 0.0179 - accuracy: 0.9911 - 3s/epoch - 1ms/step\n",
            "Epoch 33/100\n",
            "2399/2399 - 3s - loss: 0.0178 - accuracy: 0.9913 - 3s/epoch - 1ms/step\n",
            "Epoch 34/100\n",
            "2399/2399 - 4s - loss: 0.0179 - accuracy: 0.9911 - 4s/epoch - 2ms/step\n",
            "Epoch 35/100\n",
            "2399/2399 - 4s - loss: 0.0177 - accuracy: 0.9914 - 4s/epoch - 2ms/step\n",
            "Epoch 36/100\n",
            "2399/2399 - 3s - loss: 0.0186 - accuracy: 0.9914 - 3s/epoch - 1ms/step\n",
            "Epoch 37/100\n",
            "2399/2399 - 3s - loss: 0.0183 - accuracy: 0.9908 - 3s/epoch - 1ms/step\n",
            "Epoch 38/100\n",
            "2399/2399 - 4s - loss: 0.0172 - accuracy: 0.9918 - 4s/epoch - 2ms/step\n",
            "Epoch 39/100\n",
            "2399/2399 - 5s - loss: 0.0175 - accuracy: 0.9916 - 5s/epoch - 2ms/step\n",
            "Epoch 40/100\n",
            "2399/2399 - 5s - loss: 0.0171 - accuracy: 0.9916 - 5s/epoch - 2ms/step\n",
            "Epoch 41/100\n",
            "2399/2399 - 8s - loss: 0.0175 - accuracy: 0.9913 - 8s/epoch - 3ms/step\n",
            "Epoch 42/100\n",
            "2399/2399 - 4s - loss: 0.0175 - accuracy: 0.9915 - 4s/epoch - 2ms/step\n",
            "Epoch 43/100\n",
            "2399/2399 - 3s - loss: 0.0171 - accuracy: 0.9917 - 3s/epoch - 1ms/step\n",
            "Epoch 44/100\n",
            "2399/2399 - 4s - loss: 0.0170 - accuracy: 0.9918 - 4s/epoch - 2ms/step\n",
            "Epoch 45/100\n",
            "2399/2399 - 6s - loss: 0.0167 - accuracy: 0.9920 - 6s/epoch - 2ms/step\n",
            "Epoch 46/100\n",
            "2399/2399 - 3s - loss: 0.0167 - accuracy: 0.9921 - 3s/epoch - 1ms/step\n",
            "Epoch 47/100\n",
            "2399/2399 - 4s - loss: 0.0166 - accuracy: 0.9921 - 4s/epoch - 2ms/step\n",
            "Epoch 48/100\n",
            "2399/2399 - 4s - loss: 0.0169 - accuracy: 0.9916 - 4s/epoch - 2ms/step\n",
            "Epoch 49/100\n",
            "2399/2399 - 3s - loss: 0.0170 - accuracy: 0.9920 - 3s/epoch - 1ms/step\n",
            "Epoch 50/100\n",
            "2399/2399 - 4s - loss: 0.0170 - accuracy: 0.9917 - 4s/epoch - 2ms/step\n",
            "Epoch 51/100\n",
            "2399/2399 - 4s - loss: 0.0162 - accuracy: 0.9920 - 4s/epoch - 2ms/step\n",
            "Epoch 52/100\n",
            "2399/2399 - 3s - loss: 0.0170 - accuracy: 0.9917 - 3s/epoch - 1ms/step\n",
            "Epoch 53/100\n",
            "2399/2399 - 3s - loss: 0.0169 - accuracy: 0.9921 - 3s/epoch - 1ms/step\n",
            "Epoch 54/100\n",
            "2399/2399 - 3s - loss: 0.0167 - accuracy: 0.9916 - 3s/epoch - 1ms/step\n",
            "Epoch 55/100\n",
            "2399/2399 - 4s - loss: 0.0162 - accuracy: 0.9921 - 4s/epoch - 2ms/step\n",
            "Epoch 56/100\n",
            "2399/2399 - 3s - loss: 0.0162 - accuracy: 0.9919 - 3s/epoch - 1ms/step\n",
            "Epoch 57/100\n",
            "2399/2399 - 3s - loss: 0.0162 - accuracy: 0.9919 - 3s/epoch - 1ms/step\n",
            "Epoch 58/100\n",
            "2399/2399 - 4s - loss: 0.0163 - accuracy: 0.9924 - 4s/epoch - 2ms/step\n",
            "Epoch 59/100\n",
            "2399/2399 - 4s - loss: 0.0161 - accuracy: 0.9921 - 4s/epoch - 2ms/step\n",
            "Epoch 60/100\n",
            "2399/2399 - 3s - loss: 0.0168 - accuracy: 0.9915 - 3s/epoch - 1ms/step\n",
            "Epoch 61/100\n",
            "2399/2399 - 3s - loss: 0.0170 - accuracy: 0.9917 - 3s/epoch - 1ms/step\n",
            "Epoch 62/100\n",
            "2399/2399 - 3s - loss: 0.0160 - accuracy: 0.9920 - 3s/epoch - 1ms/step\n",
            "Epoch 63/100\n",
            "2399/2399 - 6s - loss: 0.0164 - accuracy: 0.9920 - 6s/epoch - 2ms/step\n",
            "Epoch 64/100\n",
            "2399/2399 - 3s - loss: 0.0161 - accuracy: 0.9923 - 3s/epoch - 1ms/step\n",
            "Epoch 65/100\n",
            "2399/2399 - 3s - loss: 0.0161 - accuracy: 0.9919 - 3s/epoch - 1ms/step\n",
            "Epoch 66/100\n",
            "2399/2399 - 3s - loss: 0.0152 - accuracy: 0.9927 - 3s/epoch - 1ms/step\n",
            "Epoch 67/100\n",
            "2399/2399 - 4s - loss: 0.0158 - accuracy: 0.9925 - 4s/epoch - 2ms/step\n",
            "Epoch 68/100\n",
            "2399/2399 - 3s - loss: 0.0160 - accuracy: 0.9922 - 3s/epoch - 1ms/step\n",
            "Epoch 69/100\n",
            "2399/2399 - 3s - loss: 0.0158 - accuracy: 0.9924 - 3s/epoch - 1ms/step\n",
            "Epoch 70/100\n",
            "2399/2399 - 3s - loss: 0.0156 - accuracy: 0.9927 - 3s/epoch - 1ms/step\n",
            "Epoch 71/100\n",
            "2399/2399 - 4s - loss: 0.0157 - accuracy: 0.9922 - 4s/epoch - 2ms/step\n",
            "Epoch 72/100\n",
            "2399/2399 - 4s - loss: 0.0157 - accuracy: 0.9921 - 4s/epoch - 2ms/step\n",
            "Epoch 73/100\n",
            "2399/2399 - 3s - loss: 0.0155 - accuracy: 0.9923 - 3s/epoch - 1ms/step\n",
            "Epoch 74/100\n",
            "2399/2399 - 3s - loss: 0.0152 - accuracy: 0.9928 - 3s/epoch - 1ms/step\n",
            "Epoch 75/100\n",
            "2399/2399 - 4s - loss: 0.0161 - accuracy: 0.9921 - 4s/epoch - 2ms/step\n",
            "Epoch 76/100\n",
            "2399/2399 - 3s - loss: 0.0154 - accuracy: 0.9926 - 3s/epoch - 1ms/step\n",
            "Epoch 77/100\n",
            "2399/2399 - 4s - loss: 0.0157 - accuracy: 0.9925 - 4s/epoch - 2ms/step\n",
            "Epoch 78/100\n",
            "2399/2399 - 3s - loss: 0.0156 - accuracy: 0.9923 - 3s/epoch - 1ms/step\n",
            "Epoch 79/100\n",
            "2399/2399 - 4s - loss: 0.0157 - accuracy: 0.9925 - 4s/epoch - 2ms/step\n",
            "Epoch 80/100\n",
            "2399/2399 - 3s - loss: 0.0155 - accuracy: 0.9924 - 3s/epoch - 1ms/step\n",
            "Epoch 81/100\n",
            "2399/2399 - 3s - loss: 0.0156 - accuracy: 0.9921 - 3s/epoch - 1ms/step\n",
            "Epoch 82/100\n",
            "2399/2399 - 3s - loss: 0.0152 - accuracy: 0.9929 - 3s/epoch - 1ms/step\n",
            "Epoch 83/100\n",
            "2399/2399 - 4s - loss: 0.0163 - accuracy: 0.9923 - 4s/epoch - 2ms/step\n",
            "Epoch 84/100\n",
            "2399/2399 - 4s - loss: 0.0153 - accuracy: 0.9925 - 4s/epoch - 2ms/step\n",
            "Epoch 85/100\n",
            "2399/2399 - 4s - loss: 0.0157 - accuracy: 0.9922 - 4s/epoch - 2ms/step\n",
            "Epoch 86/100\n",
            "2399/2399 - 4s - loss: 0.0152 - accuracy: 0.9925 - 4s/epoch - 2ms/step\n",
            "Epoch 87/100\n",
            "2399/2399 - 4s - loss: 0.0158 - accuracy: 0.9922 - 4s/epoch - 2ms/step\n",
            "Epoch 88/100\n",
            "2399/2399 - 3s - loss: 0.0151 - accuracy: 0.9925 - 3s/epoch - 1ms/step\n",
            "Epoch 89/100\n",
            "2399/2399 - 3s - loss: 0.0146 - accuracy: 0.9930 - 3s/epoch - 1ms/step\n",
            "Epoch 90/100\n",
            "2399/2399 - 7s - loss: 0.0154 - accuracy: 0.9926 - 7s/epoch - 3ms/step\n",
            "Epoch 91/100\n",
            "2399/2399 - 3s - loss: 0.0152 - accuracy: 0.9929 - 3s/epoch - 1ms/step\n",
            "Epoch 92/100\n",
            "2399/2399 - 3s - loss: 0.0157 - accuracy: 0.9924 - 3s/epoch - 1ms/step\n",
            "Epoch 93/100\n",
            "2399/2399 - 3s - loss: 0.0150 - accuracy: 0.9923 - 3s/epoch - 1ms/step\n",
            "Epoch 94/100\n",
            "2399/2399 - 4s - loss: 0.0150 - accuracy: 0.9924 - 4s/epoch - 2ms/step\n",
            "Epoch 95/100\n",
            "2399/2399 - 3s - loss: 0.0154 - accuracy: 0.9925 - 3s/epoch - 1ms/step\n",
            "Epoch 96/100\n",
            "2399/2399 - 3s - loss: 0.0148 - accuracy: 0.9926 - 3s/epoch - 1ms/step\n",
            "Epoch 97/100\n",
            "2399/2399 - 3s - loss: 0.0148 - accuracy: 0.9925 - 3s/epoch - 1ms/step\n",
            "Epoch 98/100\n",
            "2399/2399 - 4s - loss: 0.0155 - accuracy: 0.9923 - 4s/epoch - 2ms/step\n",
            "Epoch 99/100\n",
            "2399/2399 - 3s - loss: 0.0147 - accuracy: 0.9928 - 3s/epoch - 1ms/step\n",
            "Epoch 100/100\n",
            "2399/2399 - 3s - loss: 0.0153 - accuracy: 0.9925 - 3s/epoch - 1ms/step\n"
          ]
        }
      ],
      "source": [
        "history=model.fit(x=train,y=y_train,epochs=100,shuffle='True',verbose=2)"
      ]
    },
    {
      "cell_type": "code",
      "execution_count": null,
      "metadata": {
        "colab": {
          "base_uri": "https://localhost:8080/"
        },
        "id": "oJwETLSXtc7u",
        "outputId": "9e6bad0a-a428-4bcb-dcb0-938eb249c8a8"
      },
      "outputs": [
        {
          "name": "stdout",
          "output_type": "stream",
          "text": [
            "1919/1919 [==============================] - 3s 1ms/step - loss: 6743.1284 - accuracy: 0.1243\n",
            "test loss, test acc: [6743.12841796875, 0.12434855103492737]\n"
          ]
        }
      ],
      "source": [
        "results = model.evaluate(X_test, y_test, batch_size=10)\n",
        "print('test loss, test acc:', results)"
      ]
    },
    {
      "cell_type": "code",
      "execution_count": null,
      "metadata": {
        "colab": {
          "base_uri": "https://localhost:8080/"
        },
        "id": "GOFgZaXKtpRT",
        "outputId": "411502c2-78c1-4f0e-d735-0429b21f1483"
      },
      "outputs": [
        {
          "name": "stdout",
          "output_type": "stream",
          "text": [
            "600/600 [==============================] - 1s 1ms/step\n"
          ]
        }
      ],
      "source": [
        "predictions = model.predict(X_test)"
      ]
    },
    {
      "cell_type": "code",
      "execution_count": null,
      "metadata": {
        "id": "rBlGrk1wuBg5"
      },
      "outputs": [],
      "source": []
    },
    {
      "cell_type": "code",
      "execution_count": null,
      "metadata": {
        "id": "hRJCcpOOuBrw"
      },
      "outputs": [],
      "source": []
    },
    {
      "cell_type": "code",
      "execution_count": null,
      "metadata": {
        "id": "lmfcICHyuCmB"
      },
      "outputs": [],
      "source": [
        "from keras.layers import Dropout\n",
        "from keras.layers import BatchNormalization\n",
        "\n",
        "modeld = Sequential()\n",
        "modeld.add(Dropout(0.2, input_shape=(7,)))\n",
        "modeld.add(Dense(16, activation='relu'))\n",
        "modeld.add(Dropout(0.2))\n",
        "modeld.add(BatchNormalization())\n",
        "modeld.add(Dense(32, activation='relu'))\n",
        "modeld.add(Dense(2, activation='softmax'))"
      ]
    },
    {
      "cell_type": "code",
      "execution_count": null,
      "metadata": {
        "id": "T2M7eZzquGWo"
      },
      "outputs": [],
      "source": [
        "modeld.compile(optimizer='adam',loss='sparse_categorical_crossentropy',metrics=['accuracy'])"
      ]
    },
    {
      "cell_type": "code",
      "execution_count": null,
      "metadata": {
        "colab": {
          "background_save": true,
          "base_uri": "https://localhost:8080/"
        },
        "id": "V0GNZ1ZIuGgf",
        "outputId": "fa7e16d2-a245-42c3-f67f-c3df3c194a6c"
      },
      "outputs": [
        {
          "name": "stdout",
          "output_type": "stream",
          "text": [
            "Epoch 1/100\n",
            "2399/2399 - 5s - loss: 0.1978 - accuracy: 0.9088 - 5s/epoch - 2ms/step\n",
            "Epoch 2/100\n",
            "2399/2399 - 4s - loss: 0.1198 - accuracy: 0.9467 - 4s/epoch - 2ms/step\n",
            "Epoch 3/100\n",
            "2399/2399 - 5s - loss: 0.0989 - accuracy: 0.9577 - 5s/epoch - 2ms/step\n",
            "Epoch 4/100\n",
            "2399/2399 - 4s - loss: 0.0913 - accuracy: 0.9613 - 4s/epoch - 2ms/step\n",
            "Epoch 5/100\n",
            "2399/2399 - 4s - loss: 0.0897 - accuracy: 0.9627 - 4s/epoch - 2ms/step\n",
            "Epoch 6/100\n",
            "2399/2399 - 4s - loss: 0.0873 - accuracy: 0.9635 - 4s/epoch - 2ms/step\n",
            "Epoch 7/100\n",
            "2399/2399 - 5s - loss: 0.0862 - accuracy: 0.9638 - 5s/epoch - 2ms/step\n",
            "Epoch 8/100\n",
            "2399/2399 - 4s - loss: 0.0827 - accuracy: 0.9654 - 4s/epoch - 2ms/step\n",
            "Epoch 9/100\n",
            "2399/2399 - 4s - loss: 0.0824 - accuracy: 0.9662 - 4s/epoch - 2ms/step\n",
            "Epoch 10/100\n",
            "2399/2399 - 5s - loss: 0.0811 - accuracy: 0.9669 - 5s/epoch - 2ms/step\n",
            "Epoch 11/100\n",
            "2399/2399 - 4s - loss: 0.0803 - accuracy: 0.9671 - 4s/epoch - 2ms/step\n",
            "Epoch 12/100\n",
            "2399/2399 - 4s - loss: 0.0804 - accuracy: 0.9674 - 4s/epoch - 2ms/step\n",
            "Epoch 13/100\n",
            "2399/2399 - 4s - loss: 0.0801 - accuracy: 0.9675 - 4s/epoch - 2ms/step\n",
            "Epoch 14/100\n",
            "2399/2399 - 5s - loss: 0.0778 - accuracy: 0.9684 - 5s/epoch - 2ms/step\n",
            "Epoch 15/100\n",
            "2399/2399 - 4s - loss: 0.0787 - accuracy: 0.9683 - 4s/epoch - 2ms/step\n",
            "Epoch 16/100\n",
            "2399/2399 - 4s - loss: 0.0766 - accuracy: 0.9691 - 4s/epoch - 2ms/step\n",
            "Epoch 17/100\n",
            "2399/2399 - 5s - loss: 0.0757 - accuracy: 0.9688 - 5s/epoch - 2ms/step\n",
            "Epoch 18/100\n",
            "2399/2399 - 4s - loss: 0.0761 - accuracy: 0.9690 - 4s/epoch - 2ms/step\n",
            "Epoch 19/100\n",
            "2399/2399 - 4s - loss: 0.0768 - accuracy: 0.9687 - 4s/epoch - 2ms/step\n",
            "Epoch 20/100\n",
            "2399/2399 - 4s - loss: 0.0767 - accuracy: 0.9687 - 4s/epoch - 2ms/step\n",
            "Epoch 21/100\n",
            "2399/2399 - 4s - loss: 0.0785 - accuracy: 0.9680 - 4s/epoch - 2ms/step\n",
            "Epoch 22/100\n",
            "2399/2399 - 4s - loss: 0.0740 - accuracy: 0.9694 - 4s/epoch - 2ms/step\n",
            "Epoch 23/100\n",
            "2399/2399 - 4s - loss: 0.0752 - accuracy: 0.9692 - 4s/epoch - 2ms/step\n",
            "Epoch 24/100\n",
            "2399/2399 - 5s - loss: 0.0760 - accuracy: 0.9689 - 5s/epoch - 2ms/step\n",
            "Epoch 25/100\n",
            "2399/2399 - 4s - loss: 0.0744 - accuracy: 0.9695 - 4s/epoch - 2ms/step\n",
            "Epoch 26/100\n",
            "2399/2399 - 4s - loss: 0.0733 - accuracy: 0.9703 - 4s/epoch - 2ms/step\n",
            "Epoch 27/100\n",
            "2399/2399 - 5s - loss: 0.0749 - accuracy: 0.9692 - 5s/epoch - 2ms/step\n",
            "Epoch 28/100\n",
            "2399/2399 - 4s - loss: 0.0742 - accuracy: 0.9699 - 4s/epoch - 2ms/step\n",
            "Epoch 29/100\n",
            "2399/2399 - 4s - loss: 0.0749 - accuracy: 0.9696 - 4s/epoch - 2ms/step\n",
            "Epoch 30/100\n",
            "2399/2399 - 4s - loss: 0.0739 - accuracy: 0.9699 - 4s/epoch - 2ms/step\n",
            "Epoch 31/100\n",
            "2399/2399 - 5s - loss: 0.0745 - accuracy: 0.9695 - 5s/epoch - 2ms/step\n",
            "Epoch 32/100\n",
            "2399/2399 - 4s - loss: 0.0741 - accuracy: 0.9696 - 4s/epoch - 2ms/step\n",
            "Epoch 33/100\n",
            "2399/2399 - 4s - loss: 0.0736 - accuracy: 0.9697 - 4s/epoch - 2ms/step\n",
            "Epoch 34/100\n",
            "2399/2399 - 5s - loss: 0.0729 - accuracy: 0.9699 - 5s/epoch - 2ms/step\n",
            "Epoch 35/100\n",
            "2399/2399 - 4s - loss: 0.0733 - accuracy: 0.9695 - 4s/epoch - 2ms/step\n",
            "Epoch 36/100\n",
            "2399/2399 - 4s - loss: 0.0723 - accuracy: 0.9702 - 4s/epoch - 2ms/step\n",
            "Epoch 37/100\n",
            "2399/2399 - 4s - loss: 0.0718 - accuracy: 0.9703 - 4s/epoch - 2ms/step\n",
            "Epoch 38/100\n",
            "2399/2399 - 5s - loss: 0.0715 - accuracy: 0.9704 - 5s/epoch - 2ms/step\n",
            "Epoch 39/100\n",
            "2399/2399 - 4s - loss: 0.0731 - accuracy: 0.9698 - 4s/epoch - 2ms/step\n",
            "Epoch 40/100\n",
            "2399/2399 - 4s - loss: 0.0722 - accuracy: 0.9698 - 4s/epoch - 2ms/step\n",
            "Epoch 41/100\n",
            "2399/2399 - 5s - loss: 0.0713 - accuracy: 0.9703 - 5s/epoch - 2ms/step\n",
            "Epoch 42/100\n",
            "2399/2399 - 4s - loss: 0.0716 - accuracy: 0.9708 - 4s/epoch - 2ms/step\n",
            "Epoch 43/100\n",
            "2399/2399 - 4s - loss: 0.0722 - accuracy: 0.9705 - 4s/epoch - 2ms/step\n",
            "Epoch 44/100\n",
            "2399/2399 - 4s - loss: 0.0730 - accuracy: 0.9700 - 4s/epoch - 2ms/step\n",
            "Epoch 45/100\n",
            "2399/2399 - 4s - loss: 0.0706 - accuracy: 0.9705 - 4s/epoch - 2ms/step\n",
            "Epoch 46/100\n",
            "2399/2399 - 4s - loss: 0.0717 - accuracy: 0.9705 - 4s/epoch - 2ms/step\n",
            "Epoch 47/100\n",
            "2399/2399 - 4s - loss: 0.0720 - accuracy: 0.9704 - 4s/epoch - 2ms/step\n",
            "Epoch 48/100\n",
            "2399/2399 - 5s - loss: 0.0713 - accuracy: 0.9707 - 5s/epoch - 2ms/step\n",
            "Epoch 49/100\n",
            "2399/2399 - 4s - loss: 0.0703 - accuracy: 0.9711 - 4s/epoch - 2ms/step\n",
            "Epoch 50/100\n",
            "2399/2399 - 4s - loss: 0.0712 - accuracy: 0.9711 - 4s/epoch - 2ms/step\n",
            "Epoch 51/100\n",
            "2399/2399 - 5s - loss: 0.0718 - accuracy: 0.9705 - 5s/epoch - 2ms/step\n",
            "Epoch 52/100\n",
            "2399/2399 - 4s - loss: 0.0703 - accuracy: 0.9714 - 4s/epoch - 2ms/step\n",
            "Epoch 53/100\n",
            "2399/2399 - 4s - loss: 0.0703 - accuracy: 0.9714 - 4s/epoch - 2ms/step\n",
            "Epoch 54/100\n",
            "2399/2399 - 4s - loss: 0.0721 - accuracy: 0.9704 - 4s/epoch - 2ms/step\n",
            "Epoch 55/100\n",
            "2399/2399 - 5s - loss: 0.0704 - accuracy: 0.9712 - 5s/epoch - 2ms/step\n",
            "Epoch 56/100\n",
            "2399/2399 - 4s - loss: 0.0718 - accuracy: 0.9703 - 4s/epoch - 2ms/step\n",
            "Epoch 57/100\n",
            "2399/2399 - 4s - loss: 0.0712 - accuracy: 0.9712 - 4s/epoch - 2ms/step\n",
            "Epoch 58/100\n",
            "2399/2399 - 5s - loss: 0.0718 - accuracy: 0.9712 - 5s/epoch - 2ms/step\n",
            "Epoch 59/100\n",
            "2399/2399 - 4s - loss: 0.0704 - accuracy: 0.9712 - 4s/epoch - 2ms/step\n",
            "Epoch 60/100\n",
            "2399/2399 - 4s - loss: 0.0701 - accuracy: 0.9713 - 4s/epoch - 2ms/step\n",
            "Epoch 61/100\n",
            "2399/2399 - 4s - loss: 0.0683 - accuracy: 0.9723 - 4s/epoch - 2ms/step\n",
            "Epoch 62/100\n",
            "2399/2399 - 4s - loss: 0.0688 - accuracy: 0.9719 - 4s/epoch - 2ms/step\n",
            "Epoch 63/100\n",
            "2399/2399 - 4s - loss: 0.0700 - accuracy: 0.9714 - 4s/epoch - 2ms/step\n",
            "Epoch 64/100\n",
            "2399/2399 - 4s - loss: 0.0671 - accuracy: 0.9723 - 4s/epoch - 2ms/step\n",
            "Epoch 65/100\n",
            "2399/2399 - 5s - loss: 0.0676 - accuracy: 0.9728 - 5s/epoch - 2ms/step\n",
            "Epoch 66/100\n",
            "2399/2399 - 4s - loss: 0.0698 - accuracy: 0.9712 - 4s/epoch - 2ms/step\n",
            "Epoch 67/100\n",
            "2399/2399 - 4s - loss: 0.0691 - accuracy: 0.9713 - 4s/epoch - 2ms/step\n",
            "Epoch 68/100\n",
            "2399/2399 - 5s - loss: 0.0689 - accuracy: 0.9715 - 5s/epoch - 2ms/step\n",
            "Epoch 69/100\n",
            "2399/2399 - 4s - loss: 0.0700 - accuracy: 0.9710 - 4s/epoch - 2ms/step\n",
            "Epoch 70/100\n",
            "2399/2399 - 4s - loss: 0.0685 - accuracy: 0.9713 - 4s/epoch - 2ms/step\n",
            "Epoch 71/100\n",
            "2399/2399 - 4s - loss: 0.0680 - accuracy: 0.9722 - 4s/epoch - 2ms/step\n",
            "Epoch 72/100\n",
            "2399/2399 - 5s - loss: 0.0690 - accuracy: 0.9715 - 5s/epoch - 2ms/step\n",
            "Epoch 73/100\n",
            "2399/2399 - 4s - loss: 0.0695 - accuracy: 0.9713 - 4s/epoch - 2ms/step\n",
            "Epoch 74/100\n",
            "2399/2399 - 4s - loss: 0.0681 - accuracy: 0.9718 - 4s/epoch - 2ms/step\n",
            "Epoch 75/100\n",
            "2399/2399 - 5s - loss: 0.0668 - accuracy: 0.9724 - 5s/epoch - 2ms/step\n",
            "Epoch 76/100\n",
            "2399/2399 - 4s - loss: 0.0697 - accuracy: 0.9713 - 4s/epoch - 1ms/step\n",
            "Epoch 77/100\n",
            "2399/2399 - 4s - loss: 0.0682 - accuracy: 0.9724 - 4s/epoch - 2ms/step\n",
            "Epoch 78/100\n",
            "2399/2399 - 4s - loss: 0.0686 - accuracy: 0.9716 - 4s/epoch - 2ms/step\n",
            "Epoch 79/100\n",
            "2399/2399 - 4s - loss: 0.0684 - accuracy: 0.9722 - 4s/epoch - 2ms/step\n",
            "Epoch 80/100\n",
            "2399/2399 - 4s - loss: 0.0669 - accuracy: 0.9731 - 4s/epoch - 2ms/step\n",
            "Epoch 81/100\n",
            "2399/2399 - 4s - loss: 0.0682 - accuracy: 0.9721 - 4s/epoch - 2ms/step\n",
            "Epoch 82/100\n",
            "2399/2399 - 5s - loss: 0.0679 - accuracy: 0.9723 - 5s/epoch - 2ms/step\n",
            "Epoch 83/100\n",
            "2399/2399 - 4s - loss: 0.0672 - accuracy: 0.9721 - 4s/epoch - 2ms/step\n",
            "Epoch 84/100\n",
            "2399/2399 - 4s - loss: 0.0667 - accuracy: 0.9732 - 4s/epoch - 2ms/step\n",
            "Epoch 85/100\n",
            "2399/2399 - 4s - loss: 0.0674 - accuracy: 0.9725 - 4s/epoch - 2ms/step\n",
            "Epoch 86/100\n",
            "2399/2399 - 4s - loss: 0.0683 - accuracy: 0.9716 - 4s/epoch - 2ms/step\n",
            "Epoch 87/100\n",
            "2399/2399 - 4s - loss: 0.0671 - accuracy: 0.9721 - 4s/epoch - 2ms/step\n",
            "Epoch 88/100\n",
            "2399/2399 - 4s - loss: 0.0694 - accuracy: 0.9720 - 4s/epoch - 2ms/step\n",
            "Epoch 89/100\n",
            "2399/2399 - 5s - loss: 0.0677 - accuracy: 0.9720 - 5s/epoch - 2ms/step\n",
            "Epoch 90/100\n",
            "2399/2399 - 4s - loss: 0.0679 - accuracy: 0.9718 - 4s/epoch - 2ms/step\n",
            "Epoch 91/100\n",
            "2399/2399 - 4s - loss: 0.0656 - accuracy: 0.9727 - 4s/epoch - 2ms/step\n",
            "Epoch 92/100\n",
            "2399/2399 - 5s - loss: 0.0660 - accuracy: 0.9732 - 5s/epoch - 2ms/step\n",
            "Epoch 93/100\n",
            "2399/2399 - 4s - loss: 0.0663 - accuracy: 0.9729 - 4s/epoch - 2ms/step\n",
            "Epoch 94/100\n",
            "2399/2399 - 4s - loss: 0.0680 - accuracy: 0.9725 - 4s/epoch - 2ms/step\n",
            "Epoch 95/100\n",
            "2399/2399 - 4s - loss: 0.0675 - accuracy: 0.9723 - 4s/epoch - 2ms/step\n",
            "Epoch 96/100\n",
            "2399/2399 - 5s - loss: 0.0661 - accuracy: 0.9730 - 5s/epoch - 2ms/step\n",
            "Epoch 97/100\n",
            "2399/2399 - 4s - loss: 0.0655 - accuracy: 0.9732 - 4s/epoch - 2ms/step\n",
            "Epoch 98/100\n",
            "2399/2399 - 4s - loss: 0.0676 - accuracy: 0.9724 - 4s/epoch - 2ms/step\n",
            "Epoch 99/100\n",
            "2399/2399 - 5s - loss: 0.0661 - accuracy: 0.9734 - 5s/epoch - 2ms/step\n",
            "Epoch 100/100\n",
            "2399/2399 - 4s - loss: 0.0683 - accuracy: 0.9718 - 4s/epoch - 2ms/step\n"
          ]
        }
      ],
      "source": [
        "history=modeld.fit(x=train,y=y_train,epochs=100,shuffle='True',verbose=2)"
      ]
    },
    {
      "cell_type": "code",
      "execution_count": null,
      "metadata": {
        "colab": {
          "background_save": true
        },
        "id": "5joqwRMAuGlQ",
        "outputId": "f629eb43-da3b-42c6-bd39-e50e4df16fe8"
      },
      "outputs": [
        {
          "name": "stdout",
          "output_type": "stream",
          "text": [
            "1919/1919 [==============================] - 3s 1ms/step - loss: 46.1150 - accuracy: 0.8878\n",
            "test loss, test acc: [46.1150016784668, 0.8878465890884399]\n"
          ]
        }
      ],
      "source": [
        "resultsd = modeld.evaluate(X_test, y_test, batch_size=10)\n",
        "print('test loss, test acc:', resultsd)"
      ]
    },
    {
      "cell_type": "code",
      "execution_count": null,
      "metadata": {
        "colab": {
          "background_save": true
        },
        "id": "C5_tPmY5uGpy"
      },
      "outputs": [],
      "source": [
        "model.save(\"waethermodel.hdf5\")"
      ]
    },
    {
      "cell_type": "code",
      "execution_count": null,
      "metadata": {
        "id": "px4_8twBuGuH"
      },
      "outputs": [],
      "source": [
        "from keras.models import load_model\n",
        "lmodel = load_model(\"waethermodel.hdf5\")"
      ]
    },
    {
      "cell_type": "code",
      "execution_count": null,
      "metadata": {
        "id": "7L_VdsCPuG0k"
      },
      "outputs": [],
      "source": [
        "Input_hidden_weights = model.layers[0].get_weights()[0]\n",
        "Hidden_output_weights = model.layers[1].get_weights()[0]\n",
        "print(Input_hidden_weights)\n",
        "print(len(Input_hidden_weights))\n",
        "print(\"\\n############################################################\")\n",
        "print(Hidden_output_weights)\n",
        "len(Hidden_output_weights)"
      ]
    },
    {
      "cell_type": "code",
      "execution_count": null,
      "metadata": {
        "id": "BvAPyZzruuvV"
      },
      "outputs": [],
      "source": []
    },
    {
      "cell_type": "code",
      "execution_count": null,
      "metadata": {
        "id": "Ogb0e64xuu-Q"
      },
      "outputs": [],
      "source": []
    }
  ],
  "metadata": {
    "colab": {
      "provenance": []
    },
    "kernelspec": {
      "display_name": "Python 3",
      "name": "python3"
    },
    "language_info": {
      "name": "python"
    }
  },
  "nbformat": 4,
  "nbformat_minor": 0
}